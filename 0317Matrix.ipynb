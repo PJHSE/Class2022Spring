{
  "nbformat": 4,
  "nbformat_minor": 0,
  "metadata": {
    "colab": {
      "name": "Untitled14.ipynb",
      "provenance": [],
      "authorship_tag": "ABX9TyPzDRFqv+E6k3PoyCU636Yz",
      "include_colab_link": true
    },
    "kernelspec": {
      "name": "python3",
      "display_name": "Python 3"
    },
    "language_info": {
      "name": "python"
    }
  },
  "cells": [
    {
      "cell_type": "markdown",
      "metadata": {
        "id": "view-in-github",
        "colab_type": "text"
      },
      "source": [
        "<a href=\"https://colab.research.google.com/github/PJHSE/Class2022Spring/blob/main/0317Matrix.ipynb\" target=\"_parent\"><img src=\"https://colab.research.google.com/assets/colab-badge.svg\" alt=\"Open In Colab\"/></a>"
      ]
    },
    {
      "cell_type": "code",
      "execution_count": 7,
      "metadata": {
        "colab": {
          "base_uri": "https://localhost:8080/"
        },
        "id": "_RmEQ_Jewx7l",
        "outputId": "9fb02e87-e980-4ce9-a735-34981a974815"
      },
      "outputs": [
        {
          "output_type": "stream",
          "name": "stdout",
          "text": [
            "[[1 2]\n",
            " [3 4]\n",
            " [5 6]]\n",
            "[[1 2]\n",
            " [3 4]\n",
            " [5 6]]\n",
            "<class 'numpy.matrix'>\n",
            "--------------------\n",
            "[[1 2 3]\n",
            " [4 5 6]]\n",
            "[[ 9 12 15]\n",
            " [19 26 33]\n",
            " [29 40 51]]\n"
          ]
        }
      ],
      "source": [
        "import numpy as np\n",
        "a = np.matrix([[1,2],[3,4],[5,6]])\n",
        "b = np.array([[1,2],[3,4],[5,6]])\n",
        "print(a)\n",
        "print(b)\n",
        "print(type(a))\n",
        "type(b)\n",
        "print('-'*20)\n",
        "c = np.array([[1,2,3],[4,5,6]]) \n",
        "print(c)\n",
        "d = a*c\n",
        "print(d)\n",
        "\n",
        "\n",
        "\n",
        "#A = [1, 2; 3, 4; 5, 6]    #파이썬은 이렇게 안되나?\n",
        "#A"
      ]
    },
    {
      "cell_type": "markdown",
      "source": [
        "array로 행렬 생성했을 때 항등행렬이랑 곱하니 다른 값이 나와버림. "
      ],
      "metadata": {
        "id": "jS3zGbg_2R9-"
      }
    },
    {
      "cell_type": "code",
      "source": [
        "A = np.matrix([[1.0,2.0],[4.0,5.0]])\n",
        "B = np.matrix([[1,1],[0,2]])\n",
        "I = np.eye(2)\n",
        "print(A)\n",
        "print(B)\n",
        "print(I)\n",
        "print(I*A)\n",
        "if I*A==A:   #???? 왜 오류?\n",
        "  print('true')\n",
        "else:\n",
        "  print('error')"
      ],
      "metadata": {
        "colab": {
          "base_uri": "https://localhost:8080/",
          "height": 390
        },
        "id": "ARxBM5SCw5kE",
        "outputId": "3f8a438a-3b35-4680-908e-a2c3d5d3babe"
      },
      "execution_count": 16,
      "outputs": [
        {
          "output_type": "stream",
          "name": "stdout",
          "text": [
            "[[1. 2.]\n",
            " [4. 5.]]\n",
            "[[1 1]\n",
            " [0 2]]\n",
            "[[1. 0.]\n",
            " [0. 1.]]\n",
            "[[1. 2.]\n",
            " [4. 5.]]\n"
          ]
        },
        {
          "output_type": "error",
          "ename": "ValueError",
          "evalue": "ignored",
          "traceback": [
            "\u001b[0;31m---------------------------------------------------------------------------\u001b[0m",
            "\u001b[0;31mValueError\u001b[0m                                Traceback (most recent call last)",
            "\u001b[0;32m<ipython-input-16-7b7e5fe5a98c>\u001b[0m in \u001b[0;36m<module>\u001b[0;34m()\u001b[0m\n\u001b[1;32m      6\u001b[0m \u001b[0mprint\u001b[0m\u001b[0;34m(\u001b[0m\u001b[0mI\u001b[0m\u001b[0;34m)\u001b[0m\u001b[0;34m\u001b[0m\u001b[0;34m\u001b[0m\u001b[0m\n\u001b[1;32m      7\u001b[0m \u001b[0mprint\u001b[0m\u001b[0;34m(\u001b[0m\u001b[0mI\u001b[0m\u001b[0;34m*\u001b[0m\u001b[0mA\u001b[0m\u001b[0;34m)\u001b[0m\u001b[0;34m\u001b[0m\u001b[0;34m\u001b[0m\u001b[0m\n\u001b[0;32m----> 8\u001b[0;31m \u001b[0;32mif\u001b[0m \u001b[0mI\u001b[0m\u001b[0;34m*\u001b[0m\u001b[0mA\u001b[0m\u001b[0;34m==\u001b[0m\u001b[0mA\u001b[0m\u001b[0;34m:\u001b[0m   \u001b[0;31m#???? 왜 오류?\u001b[0m\u001b[0;34m\u001b[0m\u001b[0;34m\u001b[0m\u001b[0m\n\u001b[0m\u001b[1;32m      9\u001b[0m   \u001b[0mprint\u001b[0m\u001b[0;34m(\u001b[0m\u001b[0;34m'true'\u001b[0m\u001b[0;34m)\u001b[0m\u001b[0;34m\u001b[0m\u001b[0;34m\u001b[0m\u001b[0m\n\u001b[1;32m     10\u001b[0m \u001b[0;32melse\u001b[0m\u001b[0;34m:\u001b[0m\u001b[0;34m\u001b[0m\u001b[0;34m\u001b[0m\u001b[0m\n",
            "\u001b[0;31mValueError\u001b[0m: The truth value of an array with more than one element is ambiguous. Use a.any() or a.all()"
          ]
        }
      ]
    },
    {
      "cell_type": "code",
      "source": [
        "print(A*B)\n",
        "print(B*A)"
      ],
      "metadata": {
        "colab": {
          "base_uri": "https://localhost:8080/"
        },
        "id": "dDXrRMVe1URq",
        "outputId": "ac7b0cdf-c94d-4b0d-a993-f92ccf6b88e9"
      },
      "execution_count": 17,
      "outputs": [
        {
          "output_type": "stream",
          "name": "stdout",
          "text": [
            "[[ 1.  5.]\n",
            " [ 4. 14.]]\n",
            "[[ 5.  7.]\n",
            " [ 8. 10.]]\n"
          ]
        }
      ]
    },
    {
      "cell_type": "code",
      "source": [
        "InvA=np.linalg.inv(A)\n",
        "print(np.transpose(A))\n",
        "print(A)"
      ],
      "metadata": {
        "colab": {
          "base_uri": "https://localhost:8080/"
        },
        "id": "Cj9JLiE42rHd",
        "outputId": "b5590deb-18a5-4342-facc-eb63a54383c4"
      },
      "execution_count": 23,
      "outputs": [
        {
          "output_type": "stream",
          "name": "stdout",
          "text": [
            "[[1. 4.]\n",
            " [2. 5.]]\n",
            "[[1. 2.]\n",
            " [4. 5.]]\n"
          ]
        }
      ]
    },
    {
      "cell_type": "code",
      "source": [
        "print(InvA)\n",
        "\n",
        "print(A*InvA)"
      ],
      "metadata": {
        "colab": {
          "base_uri": "https://localhost:8080/"
        },
        "id": "AoDbGgqO5trn",
        "outputId": "9d2807ac-7d3c-49d8-9bf1-b9ef99905f16"
      },
      "execution_count": 20,
      "outputs": [
        {
          "output_type": "stream",
          "name": "stdout",
          "text": [
            "[[-1.66666667  0.66666667]\n",
            " [ 1.33333333 -0.33333333]]\n",
            "[[1.00000000e+00 0.00000000e+00]\n",
            " [2.22044605e-16 1.00000000e+00]]\n"
          ]
        }
      ]
    },
    {
      "cell_type": "code",
      "source": [
        "A = np.matrix([[1,-4],[-2,1]])\n",
        "B = np.matrix([[0,3],[5,8]])"
      ],
      "metadata": {
        "id": "EGsMX_nM5v0B"
      },
      "execution_count": 24,
      "outputs": []
    },
    {
      "cell_type": "code",
      "source": [
        "A-B"
      ],
      "metadata": {
        "colab": {
          "base_uri": "https://localhost:8080/"
        },
        "id": "nwDuy9x46rfV",
        "outputId": "ca98e2c0-0fea-4f37-8852-06728f5485f6"
      },
      "execution_count": 25,
      "outputs": [
        {
          "output_type": "execute_result",
          "data": {
            "text/plain": [
              "matrix([[ 1, -7],\n",
              "        [-7, -7]])"
            ]
          },
          "metadata": {},
          "execution_count": 25
        }
      ]
    },
    {
      "cell_type": "code",
      "source": [
        "C = np.matrix([[5],[5],[2],[7]])\n",
        "C"
      ],
      "metadata": {
        "colab": {
          "base_uri": "https://localhost:8080/"
        },
        "id": "Gd1lZxVZ6s7u",
        "outputId": "d2f52037-0513-49e6-eb3c-51f0654b6484"
      },
      "execution_count": 26,
      "outputs": [
        {
          "output_type": "execute_result",
          "data": {
            "text/plain": [
              "matrix([[5],\n",
              "        [5],\n",
              "        [2],\n",
              "        [7]])"
            ]
          },
          "metadata": {},
          "execution_count": 26
        }
      ]
    },
    {
      "cell_type": "code",
      "source": [
        "D = 2*C\n",
        "D"
      ],
      "metadata": {
        "colab": {
          "base_uri": "https://localhost:8080/"
        },
        "id": "OSqP96bT64o1",
        "outputId": "12fb85f1-2401-4ec8-ad76-b8cb13e1eecc"
      },
      "execution_count": 27,
      "outputs": [
        {
          "output_type": "execute_result",
          "data": {
            "text/plain": [
              "matrix([[10],\n",
              "        [10],\n",
              "        [ 4],\n",
              "        [14]])"
            ]
          },
          "metadata": {},
          "execution_count": 27
        }
      ]
    },
    {
      "cell_type": "code",
      "source": [
        "E = np.matrix([[1,3,-1]])\n",
        "F = np.matrix([[2],[2],[4]])\n",
        "G = E*F"
      ],
      "metadata": {
        "id": "MpJkjV6Q67zy"
      },
      "execution_count": 31,
      "outputs": []
    },
    {
      "cell_type": "code",
      "source": [
        "print(G)"
      ],
      "metadata": {
        "colab": {
          "base_uri": "https://localhost:8080/"
        },
        "id": "F7Wnn-pi7Rx2",
        "outputId": "2454cdd4-f7cf-4161-bf39-bbeda5670a7c"
      },
      "execution_count": 32,
      "outputs": [
        {
          "output_type": "stream",
          "name": "stdout",
          "text": [
            "[[4]]\n"
          ]
        }
      ]
    },
    {
      "cell_type": "markdown",
      "source": [
        "ㅇㅁㄴㅇㅁㄴ"
      ],
      "metadata": {
        "id": "QW7QLESZ8EtO"
      }
    },
    {
      "cell_type": "code",
      "source": [
        "def square_return(num):\n",
        "  return num**2\n",
        "\n",
        "def square_print(num):\n",
        "  print(num**2)"
      ],
      "metadata": {
        "id": "xhnWw8G97Wbr"
      },
      "execution_count": 33,
      "outputs": []
    },
    {
      "cell_type": "code",
      "source": [
        "answer_return = square_return(4)\n",
        "\n",
        "def add(number1, number2):\n",
        "    print(number1 + number2)\n",
        "\n",
        "result = add(1, 3)\n",
        "#new_result = result + 1            #왜 에러 뜨는지 알아야 함.\n",
        "\n",
        "def add(number1, number2):\n",
        "    return number1 + number2\n",
        "\n",
        "result = add(1, 3)\n",
        "new_result = result + 1\n",
        "new_result                          #이러면 에러가 안뜸 !\n",
        "\n",
        "def add(number1, number2):\n",
        "    return number1 + number2\n",
        "    print(\"hello\")\n",
        "\n",
        "result = add(1, 3)                  #hello 안나옴!!!!!! return!\n",
        "\n",
        "def add(number1, number2):\n",
        "    print(number1 + number2)\n",
        "\n",
        "result = add(1, 3)                  #여기서 result의 value는 없다는 거 !"
      ],
      "metadata": {
        "colab": {
          "base_uri": "https://localhost:8080/"
        },
        "id": "UsK1noCb9qUv",
        "outputId": "680a0cbf-afb6-497c-ee89-db1567d4aaa3"
      },
      "execution_count": 41,
      "outputs": [
        {
          "output_type": "stream",
          "name": "stdout",
          "text": [
            "4\n",
            "4\n"
          ]
        }
      ]
    },
    {
      "cell_type": "code",
      "source": [
        "input(\"what is your name? \")"
      ],
      "metadata": {
        "colab": {
          "base_uri": "https://localhost:8080/",
          "height": 54
        },
        "id": "Lx6uNGoO97Tv",
        "outputId": "a4e48557-9eda-41b1-cf87-fdda59cda1bc"
      },
      "execution_count": 42,
      "outputs": [
        {
          "name": "stdout",
          "output_type": "stream",
          "text": [
            "what is your name? Park\n"
          ]
        },
        {
          "output_type": "execute_result",
          "data": {
            "text/plain": [
              "'Park'"
            ],
            "application/vnd.google.colaboratory.intrinsic+json": {
              "type": "string"
            }
          },
          "metadata": {},
          "execution_count": 42
        }
      ]
    },
    {
      "cell_type": "code",
      "source": [
        "name = input(\"What is your name?\")"
      ],
      "metadata": {
        "colab": {
          "base_uri": "https://localhost:8080/"
        },
        "id": "nOZ7c6GN_vIT",
        "outputId": "01521d4c-a424-4c80-ee7e-857f2667afcf"
      },
      "execution_count": 43,
      "outputs": [
        {
          "name": "stdout",
          "output_type": "stream",
          "text": [
            "What is your name?Park\n"
          ]
        }
      ]
    },
    {
      "cell_type": "code",
      "source": [
        "name"
      ],
      "metadata": {
        "colab": {
          "base_uri": "https://localhost:8080/",
          "height": 35
        },
        "id": "3Vd2rAiJ_0rf",
        "outputId": "3547cb9c-fa43-4f09-bf03-e2296e5dbc2e"
      },
      "execution_count": 44,
      "outputs": [
        {
          "output_type": "execute_result",
          "data": {
            "text/plain": [
              "'Park'"
            ],
            "application/vnd.google.colaboratory.intrinsic+json": {
              "type": "string"
            }
          },
          "metadata": {},
          "execution_count": 44
        }
      ]
    },
    {
      "cell_type": "code",
      "source": [
        "age = input(\"How old are you? \")"
      ],
      "metadata": {
        "colab": {
          "base_uri": "https://localhost:8080/"
        },
        "id": "u_PZSmGj_3Q0",
        "outputId": "0cbd39b7-7d7d-4d96-ef36-7dbbdd48c34c"
      },
      "execution_count": 45,
      "outputs": [
        {
          "name": "stdout",
          "output_type": "stream",
          "text": [
            "How old are you? 24\n"
          ]
        }
      ]
    },
    {
      "cell_type": "code",
      "source": [
        "type(age)\n",
        "age                   #input함수는 str으로 바꾼다. "
      ],
      "metadata": {
        "colab": {
          "base_uri": "https://localhost:8080/",
          "height": 35
        },
        "id": "D_yus1_XAESr",
        "outputId": "71bbbd28-beae-417a-faa0-7ff0fd820a3b"
      },
      "execution_count": 47,
      "outputs": [
        {
          "output_type": "execute_result",
          "data": {
            "text/plain": [
              "'24'"
            ],
            "application/vnd.google.colaboratory.intrinsic+json": {
              "type": "string"
            }
          },
          "metadata": {},
          "execution_count": 47
        }
      ]
    },
    {
      "cell_type": "code",
      "source": [
        "s = '''How\n",
        "are\n",
        "you'''\n",
        "s"
      ],
      "metadata": {
        "colab": {
          "base_uri": "https://localhost:8080/",
          "height": 35
        },
        "id": "fItv7U-kAGT1",
        "outputId": "81f53691-83af-423e-e802-eddf2cdff7d1"
      },
      "execution_count": 48,
      "outputs": [
        {
          "output_type": "execute_result",
          "data": {
            "text/plain": [
              "'How\\nare\\nyou'"
            ],
            "application/vnd.google.colaboratory.intrinsic+json": {
              "type": "string"
            }
          },
          "metadata": {},
          "execution_count": 48
        }
      ]
    },
    {
      "cell_type": "code",
      "source": [
        "print('3\\t4\\t5')"
      ],
      "metadata": {
        "colab": {
          "base_uri": "https://localhost:8080/"
        },
        "id": "Kv7TpzieAfbB",
        "outputId": "bc27116f-69aa-4cb5-f0bc-477548289bb4"
      },
      "execution_count": 49,
      "outputs": [
        {
          "output_type": "stream",
          "name": "stdout",
          "text": [
            "3\t4\t5\n"
          ]
        }
      ]
    },
    {
      "cell_type": "code",
      "source": [
        "print('\\\\')"
      ],
      "metadata": {
        "colab": {
          "base_uri": "https://localhost:8080/"
        },
        "id": "GOFqrp0FAqxP",
        "outputId": "d1e6fb14-2669-44e4-df05-31bfb1b36b2a"
      },
      "execution_count": 50,
      "outputs": [
        {
          "output_type": "stream",
          "name": "stdout",
          "text": [
            "\\\n"
          ]
        }
      ]
    },
    {
      "cell_type": "code",
      "source": [
        "print('don\\'t do')"
      ],
      "metadata": {
        "colab": {
          "base_uri": "https://localhost:8080/"
        },
        "id": "fJBr7u01Aw6Y",
        "outputId": "013aee75-f845-4a99-ee56-696814af59a8"
      },
      "execution_count": 51,
      "outputs": [
        {
          "output_type": "stream",
          "name": "stdout",
          "text": [
            "don't do\n"
          ]
        }
      ]
    },
    {
      "cell_type": "code",
      "source": [
        "print(\"this \\n is the newline character in Python\")"
      ],
      "metadata": {
        "colab": {
          "base_uri": "https://localhost:8080/"
        },
        "id": "WqRjXCbsA334",
        "outputId": "c32a9c87-286a-4a51-fa30-bb807c553159"
      },
      "execution_count": 52,
      "outputs": [
        {
          "output_type": "stream",
          "name": "stdout",
          "text": [
            "this \n",
            " is the newline character in Python\n"
          ]
        }
      ]
    },
    {
      "cell_type": "code",
      "source": [
        ""
      ],
      "metadata": {
        "id": "sKf82b8RBW2f"
      },
      "execution_count": null,
      "outputs": []
    }
  ]
}