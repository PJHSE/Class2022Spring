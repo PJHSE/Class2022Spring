{
  "nbformat": 4,
  "nbformat_minor": 0,
  "metadata": {
    "kernelspec": {
      "display_name": "Python 3",
      "language": "python",
      "name": "python3"
    },
    "language_info": {
      "codemirror_mode": {
        "name": "ipython",
        "version": 3
      },
      "file_extension": ".py",
      "mimetype": "text/x-python",
      "name": "python",
      "nbconvert_exporter": "python",
      "pygments_lexer": "ipython3",
      "version": "3.7.1"
    },
    "colab": {
      "name": "numpy_matplotlib.ipynb",
      "provenance": [],
      "include_colab_link": true
    }
  },
  "cells": [
    {
      "cell_type": "markdown",
      "metadata": {
        "id": "view-in-github",
        "colab_type": "text"
      },
      "source": [
        "<a href=\"https://colab.research.google.com/github/PJHSE/Class2022Spring/blob/main/1st%20week%202(20220316).ipynb\" target=\"_parent\"><img src=\"https://colab.research.google.com/assets/colab-badge.svg\" alt=\"Open In Colab\"/></a>"
      ]
    },
    {
      "cell_type": "markdown",
      "metadata": {
        "id": "JcCdLoe_4bY7"
      },
      "source": [
        "### create nd arrays (≈matrices)"
      ]
    },
    {
      "cell_type": "code",
      "metadata": {
        "id": "5ap7xyofShBB"
      },
      "source": [
        "import numpy as np"
      ],
      "execution_count": 1,
      "outputs": []
    },
    {
      "cell_type": "code",
      "source": [
        "np.random.randn(5)          #randn함수, 랜덤 넘버 5개 만들어지고, 얘네 정규분포를 따름. 평균 0 SD = 1"
      ],
      "metadata": {
        "colab": {
          "base_uri": "https://localhost:8080/"
        },
        "id": "_GweWqR8Evp0",
        "outputId": "e60c39f1-82e9-4228-d140-3f8d185221d7"
      },
      "execution_count": 3,
      "outputs": [
        {
          "output_type": "execute_result",
          "data": {
            "text/plain": [
              "array([-1.52527226, -0.23049105,  0.74288066, -1.58355156, -0.66760244])"
            ]
          },
          "metadata": {},
          "execution_count": 3
        }
      ]
    },
    {
      "cell_type": "code",
      "source": [
        "n = np.random.randn(100)"
      ],
      "metadata": {
        "id": "pgBNXzetFEx4"
      },
      "execution_count": 6,
      "outputs": []
    },
    {
      "cell_type": "code",
      "source": [
        "import matplotlib\n",
        "matplotlib.pyplot.hist(n)                   #n을 토대로 histogram. y축은 갯수(frequency), x축은 value"
      ],
      "metadata": {
        "colab": {
          "base_uri": "https://localhost:8080/",
          "height": 356
        },
        "id": "nJeWsTvvFI_M",
        "outputId": "187e1e59-0456-4c7f-bb1c-6bf12003732c"
      },
      "execution_count": 7,
      "outputs": [
        {
          "output_type": "execute_result",
          "data": {
            "text/plain": [
              "(array([ 1.,  2.,  4.,  4., 12., 15., 20., 21., 16.,  5.]),\n",
              " array([-3.01638953, -2.5314273 , -2.04646507, -1.56150283, -1.0765406 ,\n",
              "        -0.59157837, -0.10661613,  0.3783461 ,  0.86330833,  1.34827057,\n",
              "         1.8332328 ]),\n",
              " <a list of 10 Patch objects>)"
            ]
          },
          "metadata": {},
          "execution_count": 7
        },
        {
          "output_type": "display_data",
          "data": {
            "text/plain": [
              "<Figure size 432x288 with 1 Axes>"
            ],
            "image/png": "[encoded data removed]"
          },
          "metadata": {
            "needs_background": "light"
          }
        }
      ]
    },
    {
      "cell_type": "code",
      "source": [
        "import matplotlib.pyplot as plt\n",
        "plt.hist(n)"
      ],
      "metadata": {
        "colab": {
          "base_uri": "https://localhost:8080/",
          "height": 356
        },
        "id": "G0j0QASXFhJX",
        "outputId": "75537f65-521a-4ce3-fb63-2d065b808122"
      },
      "execution_count": 8,
      "outputs": [
        {
          "output_type": "execute_result",
          "data": {
            "text/plain": [
              "(array([ 1.,  2.,  4.,  4., 12., 15., 20., 21., 16.,  5.]),\n",
              " array([-3.01638953, -2.5314273 , -2.04646507, -1.56150283, -1.0765406 ,\n",
              "        -0.59157837, -0.10661613,  0.3783461 ,  0.86330833,  1.34827057,\n",
              "         1.8332328 ]),\n",
              " <a list of 10 Patch objects>)"
            ]
          },
          "metadata": {},
          "execution_count": 8
        },
        {
          "output_type": "display_data",
          "data": {
            "text/plain": [
              "<Figure size 432x288 with 1 Axes>"
            ],
            "image/png": "[encoded data removed]"
          },
          "metadata": {
            "needs_background": "light"
          }
        }
      ]
    },
    {
      "cell_type": "code",
      "source": [
        "from matplotlib import pyplot\n",
        "pyplot.hist(n)                          #요런 축약.\n",
        "from matplotlib.pyplot import hist\n",
        "hist(n)"
      ],
      "metadata": {
        "colab": {
          "base_uri": "https://localhost:8080/",
          "height": 356
        },
        "id": "DD-s1-DnFyn2",
        "outputId": "87cee9b6-bb72-439a-e317-8c82453227f4"
      },
      "execution_count": 10,
      "outputs": [
        {
          "output_type": "execute_result",
          "data": {
            "text/plain": [
              "(array([ 1.,  2.,  4.,  4., 12., 15., 20., 21., 16.,  5.]),\n",
              " array([-3.01638953, -2.5314273 , -2.04646507, -1.56150283, -1.0765406 ,\n",
              "        -0.59157837, -0.10661613,  0.3783461 ,  0.86330833,  1.34827057,\n",
              "         1.8332328 ]),\n",
              " <a list of 10 Patch objects>)"
            ]
          },
          "metadata": {},
          "execution_count": 10
        },
        {
          "output_type": "display_data",
          "data": {
            "text/plain": [
              "<Figure size 432x288 with 1 Axes>"
            ],
            "image/png": "[encoded data removed]"
          },
          "metadata": {
            "needs_background": "light"
          }
        }
      ]
    },
    {
      "cell_type": "code",
      "source": [
        ""
      ],
      "metadata": {
        "id": "3EtPHRPgGBKD"
      },
      "execution_count": null,
      "outputs": []
    },
    {
      "cell_type": "markdown",
      "source": [
        "matrix 행렬, 직사각형의 숫자 배열. \n",
        "\n",
        "nd array = n dimensional array. 1d 2d 3d 4d..."
      ],
      "metadata": {
        "id": "p1g0tvFhGQQJ"
      }
    },
    {
      "cell_type": "code",
      "metadata": {
        "id": "2rqpSPZCShBC",
        "colab": {
          "base_uri": "https://localhost:8080/"
        },
        "outputId": "d0b8de6e-a1a9-4d8f-dbdf-a874043f0f06"
      },
      "source": [
        "x = np.array([1,2,3])   #list는 계산이 될 수 없음 그래서 array로 바꿔줘야 함.\n",
        "print(x)\n",
        "print(type(x))          #넘파이 ndarray라고 타입이 됨.(n차원의 어레이)\n",
        "print(x.shape)          #1차원, 3개의 item. 1 dimensional"
      ],
      "execution_count": null,
      "outputs": [
        {
          "output_type": "stream",
          "name": "stdout",
          "text": [
            "[1 2 3]\n",
            "<class 'numpy.ndarray'>\n",
            "(3,)\n"
          ]
        }
      ]
    },
    {
      "cell_type": "code",
      "metadata": {
        "id": "EjC88C75ShBC",
        "colab": {
          "base_uri": "https://localhost:8080/"
        },
        "outputId": "7143e4dd-2864-4b57-855e-56eb92a6bd75"
      },
      "source": [
        "x = np.arange(0,10,2)   #a range 함수. a포함해서 b이전까지 increment, 0부터 10 이전까지 2간격으로 range를 만들어라.\n",
        "print(x)                \n",
        "print(type(x))          #똑같이 ndarray.\n",
        "print(x.shape)          #5개의 item이 들어 있는 1차원 1d"
      ],
      "execution_count": null,
      "outputs": [
        {
          "output_type": "stream",
          "name": "stdout",
          "text": [
            "[0 2 4 6 8]\n",
            "<class 'numpy.ndarray'>\n",
            "(5,)\n"
          ]
        }
      ]
    },
    {
      "cell_type": "code",
      "metadata": {
        "id": "-MwkCEjTShBC",
        "colab": {
          "base_uri": "https://localhost:8080/"
        },
        "outputId": "11427674-886c-4f82-ca48-a1465f53223e"
      },
      "source": [
        "x = np.linspace(0,10,6)   #a에서 b포함해서 C개로 쪼개라, linear하게 등분. 0부터 10포함해서 6개로 등분하여 쪼개라.\n",
        "print(x)                  \n",
        "print(type(x))            #똑같이 nd array\n",
        "print(x.shape)            #6개의 item 1차원"
      ],
      "execution_count": null,
      "outputs": [
        {
          "output_type": "stream",
          "name": "stdout",
          "text": [
            "[ 0.  2.  4.  6.  8. 10.]\n",
            "<class 'numpy.ndarray'>\n",
            "(6,)\n"
          ]
        }
      ]
    },
    {
      "cell_type": "code",
      "metadata": {
        "id": "tjk79SQ27fNv",
        "colab": {
          "base_uri": "https://localhost:8080/"
        },
        "outputId": "3ff3368b-6bb1-4664-933e-8504613780b1"
      },
      "source": [
        "x = np.array([[1,2,3], [4,5,6]])      #하나의 list 안에 2개의 list, 이중 리스트\n",
        "print(x)      \n",
        "print(type(x))                        #2d array \n",
        "print(x.shape)                        #2row 3column 2x3"
      ],
      "execution_count": null,
      "outputs": [
        {
          "output_type": "stream",
          "name": "stdout",
          "text": [
            "[[1 2 3]\n",
            " [4 5 6]]\n",
            "<class 'numpy.ndarray'>\n",
            "(2, 3)\n"
          ]
        }
      ]
    },
    {
      "cell_type": "code",
      "metadata": {
        "id": "C1ogg6iZ7yir",
        "colab": {
          "base_uri": "https://localhost:8080/"
        },
        "outputId": "baf27f4e-10a7-40bb-82f4-bf470d8de90c"
      },
      "source": [
        "x = np.array([[[1,2,3], [4,5,6]], [[7,8,9], [10,11,12]]])      #3중 list, 3d\n",
        "print(x)\n",
        "print(type(x))                #3d array. \n",
        "print(x.shape)                #"
      ],
      "execution_count": null,
      "outputs": [
        {
          "output_type": "stream",
          "name": "stdout",
          "text": [
            "[[[ 1  2  3]\n",
            "  [ 4  5  6]]\n",
            "\n",
            " [[ 7  8  9]\n",
            "  [10 11 12]]]\n",
            "<class 'numpy.ndarray'>\n",
            "(2, 2, 3)\n"
          ]
        }
      ]
    },
    {
      "cell_type": "code",
      "metadata": {
        "id": "efgeNHtD8ZlT",
        "colab": {
          "base_uri": "https://localhost:8080/"
        },
        "outputId": "047fb9dd-8c90-4dbf-9f12-35123bed1052"
      },
      "source": [
        "x = np.ones([2, 2, 3])          #1로 채워서 array만들기.\n",
        "print(x)\n",
        "print(type(x))\n",
        "print(x.shape)                  #2, 2, 3"
      ],
      "execution_count": null,
      "outputs": [
        {
          "output_type": "stream",
          "name": "stdout",
          "text": [
            "[[[1. 1. 1.]\n",
            "  [1. 1. 1.]]\n",
            "\n",
            " [[1. 1. 1.]\n",
            "  [1. 1. 1.]]]\n",
            "<class 'numpy.ndarray'>\n",
            "(2, 2, 3)\n"
          ]
        }
      ]
    },
    {
      "cell_type": "code",
      "metadata": {
        "id": "b_F-ccY08zzl",
        "colab": {
          "base_uri": "https://localhost:8080/"
        },
        "outputId": "d56dd759-bbd1-48d5-d208-4a2084fe1cec"
      },
      "source": [
        "x = np.zeros([2, 2, 3])             #0으로 채워서, 차원, 갯수\n",
        "print(x)\n",
        "print(type(x))\n",
        "print(x.shape)\n",
        "x.reshape(3,2,2)"
      ],
      "execution_count": null,
      "outputs": [
        {
          "output_type": "stream",
          "name": "stdout",
          "text": [
            "[[[0. 0. 0.]\n",
            "  [0. 0. 0.]]\n",
            "\n",
            " [[0. 0. 0.]\n",
            "  [0. 0. 0.]]]\n",
            "<class 'numpy.ndarray'>\n",
            "(2, 2, 3)\n"
          ]
        },
        {
          "output_type": "execute_result",
          "data": {
            "text/plain": [
              "array([[[0., 0.],\n",
              "        [0., 0.]],\n",
              "\n",
              "       [[0., 0.],\n",
              "        [0., 0.]],\n",
              "\n",
              "       [[0., 0.],\n",
              "        [0., 0.]]])"
            ]
          },
          "metadata": {},
          "execution_count": 27
        }
      ]
    },
    {
      "cell_type": "markdown",
      "metadata": {
        "id": "0hQuDJ5g9gpE"
      },
      "source": [
        "### create random numbers"
      ]
    },
    {
      "cell_type": "code",
      "source": [
        "np.random.normal(0, 1, [2,3,4])         #랜덤 넘버 생성, 난수 (평균, 표준편차, ndarray 크기)"
      ],
      "metadata": {
        "id": "pCVnElBgan70",
        "outputId": "b06de733-6380-4b28-870b-61ddb453ad8a",
        "colab": {
          "base_uri": "https://localhost:8080/"
        }
      },
      "execution_count": null,
      "outputs": [
        {
          "output_type": "execute_result",
          "data": {
            "text/plain": [
              "array([[[ 0.28610219, -0.7264868 , -0.50719279,  1.04473795],\n",
              "        [-2.6269445 ,  0.80373735, -3.94639222, -0.11259909],\n",
              "        [-0.271832  , -1.03545502, -0.11481238, -0.80041025]],\n",
              "\n",
              "       [[-0.94959226,  1.11390672, -0.47629241, -1.43499953],\n",
              "        [ 1.01427831,  0.93052177, -0.51619177,  1.99354224],\n",
              "        [-0.68265827,  0.97492243, -0.33173391,  0.0293543 ]]])"
            ]
          },
          "metadata": {},
          "execution_count": 5
        }
      ]
    },
    {
      "cell_type": "code",
      "metadata": {
        "id": "QRatmkx79otL"
      },
      "source": [
        "import matplotlib.pyplot as plt\n",
        "import numpy as np"
      ],
      "execution_count": 3,
      "outputs": []
    },
    {
      "cell_type": "code",
      "metadata": {
        "id": "z1oOAB6dShBD",
        "colab": {
          "base_uri": "https://localhost:8080/",
          "height": 666
        },
        "outputId": "b9a4d96e-1340-44e0-8820-14730d23a493"
      },
      "source": [
        "x = np.random.normal(0, 1, 100)   #0부터 1 사이에 랜덤 넘버 100개 생성,정규분포 0부터 1사이 100개. 1d로.\n",
        "print(x)\n",
        "plt.hist(x, bins=10)            #히스토그램 생성."
      ],
      "execution_count": 4,
      "outputs": [
        {
          "output_type": "stream",
          "name": "stdout",
          "text": [
            "[-0.0132347   0.02299563  1.35311838 -0.53665951  0.59469404  0.72370403\n",
            "  0.12233856  0.13488632 -1.14709541 -0.25458063 -1.9140661  -0.1571268\n",
            " -1.01803286 -2.05624189 -0.30101051  0.4590774  -0.57959508 -0.72028354\n",
            "  0.53742184  1.98240404  0.66222419  0.01100097 -0.8309272  -0.96389794\n",
            " -0.45529974 -0.38542587 -1.04055638  1.84611761 -0.35667314  2.06844834\n",
            "  0.88440972  0.5398499  -1.04985082  0.89444849 -0.39232588 -1.07613066\n",
            "  1.52756803  0.41078477  0.15119946 -0.74558863  0.78844753 -1.46927699\n",
            "  1.48407348 -0.45567103 -0.39185543 -0.29725967  1.2348173  -1.89406153\n",
            "  1.02660741  0.07853575 -1.9459301   1.2450401  -0.50116898  0.46792301\n",
            "  0.40599162 -0.15963851  0.91700973  0.87068932 -0.51080811 -1.90500462\n",
            "  1.87459349  0.30096169 -0.88205469 -0.50857955 -0.6922751   1.20792409\n",
            " -0.8875372   1.65806235  1.18830045 -0.90978203 -0.11118378  0.47633623\n",
            " -0.99583668 -0.90527149  0.32178191 -0.5120913  -0.86566632  0.28939498\n",
            "  0.06843427  0.35049313 -0.01102008 -1.0135629  -0.71503671  1.23663175\n",
            "  1.23078136 -2.38849423 -1.43984855 -1.03182976 -0.15658251  0.59931155\n",
            " -0.96752885  2.53875164 -0.06049385  0.41776648  0.43672727  1.31563279\n",
            " -0.91572768  0.78457582  0.56780499  0.31700703]\n"
          ]
        },
        {
          "output_type": "execute_result",
          "data": {
            "text/plain": [
              "(array([ 5.,  3., 11., 18., 17., 19., 11., 10.,  4.,  2.]),\n",
              " array([-2.38849423, -1.89576964, -1.40304506, -0.91032047, -0.41759588,\n",
              "         0.0751287 ,  0.56785329,  1.06057788,  1.55330246,  2.04602705,\n",
              "         2.53875164]),\n",
              " <a list of 10 Patch objects>)"
            ]
          },
          "metadata": {},
          "execution_count": 4
        },
        {
          "output_type": "display_data",
          "data": {
            "text/plain": [
              "<Figure size 432x288 with 1 Axes>"
            ],
            "image/png": "[encoded data removed]"
          },
          "metadata": {
            "needs_background": "light"
          }
        }
      ]
    },
    {
      "cell_type": "markdown",
      "metadata": {
        "id": "G0exvwBbShBE"
      },
      "source": [
        "### generate a sine curve"
      ]
    },
    {
      "cell_type": "code",
      "metadata": {
        "id": "HgQmRXzMShBE",
        "colab": {
          "base_uri": "https://localhost:8080/",
          "height": 284
        },
        "outputId": "a1c09362-6b68-41cf-fe9f-a5b330039530"
      },
      "source": [
        "plt.figure()                                               #사인 함수, 라디안을 씀. \n",
        "\n",
        "theta1 = np.linspace(0, 2*np.pi, 100)           #0부터 2파이 까지 등간격으로 100개의 숫자\n",
        "s1 = np.sin(theta1)                             #theta1을 파라미터로 받는 사인 함수\n",
        "theta2 = np.linspace(0, 2*np.pi, 100) + np.pi/2 #0부터 2파이까지 등간격으로 100개의 숫자, 근데 거기에 90도 더하는.\n",
        "s2 = np.sin(theta2)                             #theta2를 파라미터로 받는 사인 함수\n",
        "\n",
        "plt.subplot(1, 2, 1) # (rows, columns, panel number)              #그림 그리기 위한 환경 설정\n",
        "plt.plot(theta1, s1, '.')                                         #\n",
        "plt.subplot(1, 2, 2) # (rows, columns, panel number)\n",
        "plt.plot(theta2, s2, '.')"
      ],
      "execution_count": 7,
      "outputs": [
        {
          "output_type": "execute_result",
          "data": {
            "text/plain": [
              "[<matplotlib.lines.Line2D at 0x7f6c96163dd0>]"
            ]
          },
          "metadata": {},
          "execution_count": 7
        },
        {
          "output_type": "display_data",
          "data": {
            "text/plain": [
              "<Figure size 432x288 with 2 Axes>"
            ],
            "image/png": "[encoded data removed]"
          },
          "metadata": {
            "needs_background": "light"
          }
        }
      ]
    },
    {
      "cell_type": "code",
      "metadata": {
        "id": "TuH489v9BvQ7",
        "colab": {
          "base_uri": "https://localhost:8080/"
        },
        "outputId": "80f021a2-50ec-4eb5-aed7-4faf9a306496"
      },
      "source": [
        "np.corrcoef(s1,s2)                                #비례한다는 것을 correaltion. coefficient.\n",
        "                                                  #관계가 가까울 때, r의 절대값이 1에 가까워지고, 0에 가까워질 수록 관계정도가 떨어짐."
      ],
      "execution_count": null,
      "outputs": [
        {
          "output_type": "execute_result",
          "data": {
            "text/plain": [
              "array([[1.00000000e+00, 2.41915449e-17],\n",
              "       [2.41915449e-17, 1.00000000e+00]])"
            ]
          },
          "metadata": {},
          "execution_count": 11
        }
      ]
    }
  ]
}