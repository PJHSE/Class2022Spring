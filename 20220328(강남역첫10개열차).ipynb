{
  "nbformat": 4,
  "nbformat_minor": 0,
  "metadata": {
    "colab": {
      "name": "requests_gradio.ipynb",
      "provenance": [],
      "include_colab_link": true
    },
    "kernelspec": {
      "name": "python3",
      "display_name": "Python 3"
    },
    "language_info": {
      "name": "python"
    }
  },
  "cells": [
    {
      "cell_type": "markdown",
      "metadata": {
        "id": "view-in-github",
        "colab_type": "text"
      },
      "source": [
        "<a href=\"https://colab.research.google.com/github/PJHSE/Class2022Spring/blob/main/20220328(%EA%B0%95%EB%82%A8%EC%97%AD%EC%B2%AB10%EA%B0%9C%EC%97%B4%EC%B0%A8).ipynb\" target=\"_parent\"><img src=\"https://colab.research.google.com/assets/colab-badge.svg\" alt=\"Open In Colab\"/></a>"
      ]
    },
    {
      "cell_type": "code",
      "source": [
        "!pip install gradio\n",
        "import gradio as gr\n",
        "import requests\n",
        "import pandas as pd"
      ],
      "metadata": {
        "id": "8eZHGJhmqd9a",
        "outputId": "854c37ea-ec01-46cb-b780-c61d203d188a",
        "colab": {
          "base_uri": "https://localhost:8080/"
        }
      },
      "execution_count": 1,
      "outputs": [
        {
          "output_type": "stream",
          "name": "stdout",
          "text": [
            "Successfully installed aiohttp-3.8.1 aiosignal-1.2.0 analytics-python-1.4.0 anyio-3.5.0 asgiref-3.5.0 async-timeout-4.0.2 asynctest-0.13.0 backoff-1.10.0 bcrypt-3.2.0 cryptography-36.0.2 fastapi-0.75.0 ffmpy-0.3.0 frozenlist-1.3.0 gradio-2.9.0 h11-0.13.0 linkify-it-py-1.0.3 markdown-it-py-2.0.1 mdit-py-plugins-0.3.0 mdurl-0.1.0 monotonic-1.6 multidict-6.0.2 orjson-3.6.7 paramiko-2.10.3 pycryptodome-3.14.1 pydantic-1.9.0 pydub-0.25.1 pynacl-1.5.0 python-multipart-0.0.5 sniffio-1.2.0 starlette-0.17.1 uc-micro-py-1.0.1 uvicorn-0.17.6 yarl-1.7.2\n"
          ]
        }
      ]
    },
    {
      "cell_type": "code",
      "source": [
        "URL = ('http://apis.data.go.kr/B553766/smt-schedule/schedule?serviceKey=5fCBE0vOLmG7sNcmr5Wictc6oXap0IiPVq4aNB8RHKLVAhyl2pgIYpUb9Z6hh%2BaD2V458FpxReLp0d%2BajKXang%3D%3D&numOfRows=10&pageNo=1&stationCode=0222&week=DAY&trainDirection=IN')\n",
        "response = requests.get(URL)"
      ],
      "metadata": {
        "id": "lHHEwqpyJF7r"
      },
      "execution_count": 5,
      "outputs": []
    },
    {
      "cell_type": "code",
      "source": [
        "response"
      ],
      "metadata": {
        "id": "2TZPBpGx-leQ",
        "outputId": "3d7e5779-d283-4227-ad9b-06c39653d9a7",
        "colab": {
          "base_uri": "https://localhost:8080/"
        }
      },
      "execution_count": 7,
      "outputs": [
        {
          "output_type": "execute_result",
          "data": {
            "text/plain": [
              "<Response [200]>"
            ]
          },
          "metadata": {},
          "execution_count": 7
        }
      ]
    },
    {
      "cell_type": "markdown",
      "source": [
        "#### http://jsonviewer.stack.hu/ (copy json here to view json)"
      ],
      "metadata": {
        "id": "faIENRyFfnY1"
      }
    },
    {
      "cell_type": "code",
      "source": [
        "r = response.json()\n",
        "r"
      ],
      "metadata": {
        "id": "JcLKwg0foR9p",
        "outputId": "679820bd-a302-45c2-a1ef-5836591e7ef7",
        "colab": {
          "base_uri": "https://localhost:8080/"
        }
      },
      "execution_count": 9,
      "outputs": [
        {
          "output_type": "execute_result",
          "data": {
            "text/plain": [
              "{'currentCount': 10,\n",
              " 'data': [{'station_code': '0222',\n",
              "   'station_line': '2',\n",
              "   'station_name': '강남',\n",
              "   'train_arrtime': '053530',\n",
              "   'train_code': '2016',\n",
              "   'train_departure': '삼성',\n",
              "   'train_deptime': '053600',\n",
              "   'train_destination': '성수',\n",
              "   'train_direction': 'IN',\n",
              "   'train_express': '0',\n",
              "   'week': 'DAY'},\n",
              "  {'station_code': '0222',\n",
              "   'station_line': '2',\n",
              "   'station_name': '강남',\n",
              "   'train_arrtime': '055200',\n",
              "   'train_code': '2022',\n",
              "   'train_departure': '성수',\n",
              "   'train_deptime': '055230',\n",
              "   'train_destination': '성수',\n",
              "   'train_direction': 'IN',\n",
              "   'train_express': '0',\n",
              "   'week': 'DAY'},\n",
              "  {'station_code': '0222',\n",
              "   'station_line': '2',\n",
              "   'station_name': '강남',\n",
              "   'train_arrtime': '060200',\n",
              "   'train_code': '2026',\n",
              "   'train_departure': '성수',\n",
              "   'train_deptime': '060230',\n",
              "   'train_destination': '성수',\n",
              "   'train_direction': 'IN',\n",
              "   'train_express': '0',\n",
              "   'week': 'DAY'},\n",
              "  {'station_code': '0222',\n",
              "   'station_line': '2',\n",
              "   'station_name': '강남',\n",
              "   'train_arrtime': '060900',\n",
              "   'train_code': '2028',\n",
              "   'train_departure': '성수',\n",
              "   'train_deptime': '060930',\n",
              "   'train_destination': '성수',\n",
              "   'train_direction': 'IN',\n",
              "   'train_express': '0',\n",
              "   'week': 'DAY'},\n",
              "  {'station_code': '0222',\n",
              "   'station_line': '2',\n",
              "   'station_name': '강남',\n",
              "   'train_arrtime': '061600',\n",
              "   'train_code': '2030',\n",
              "   'train_departure': '성수',\n",
              "   'train_deptime': '061630',\n",
              "   'train_destination': '성수',\n",
              "   'train_direction': 'IN',\n",
              "   'train_express': '0',\n",
              "   'week': 'DAY'},\n",
              "  {'station_code': '0222',\n",
              "   'station_line': '2',\n",
              "   'station_name': '강남',\n",
              "   'train_arrtime': '062000',\n",
              "   'train_code': '2032',\n",
              "   'train_departure': '성수',\n",
              "   'train_deptime': '062030',\n",
              "   'train_destination': '성수',\n",
              "   'train_direction': 'IN',\n",
              "   'train_express': '0',\n",
              "   'week': 'DAY'},\n",
              "  {'station_code': '0222',\n",
              "   'station_line': '2',\n",
              "   'station_name': '강남',\n",
              "   'train_arrtime': '062600',\n",
              "   'train_code': '2036',\n",
              "   'train_departure': '성수',\n",
              "   'train_deptime': '062630',\n",
              "   'train_destination': '성수',\n",
              "   'train_direction': 'IN',\n",
              "   'train_express': '0',\n",
              "   'week': 'DAY'},\n",
              "  {'station_code': '0222',\n",
              "   'station_line': '2',\n",
              "   'station_name': '강남',\n",
              "   'train_arrtime': '063200',\n",
              "   'train_code': '2038',\n",
              "   'train_departure': '성수',\n",
              "   'train_deptime': '063230',\n",
              "   'train_destination': '성수',\n",
              "   'train_direction': 'IN',\n",
              "   'train_express': '0',\n",
              "   'week': 'DAY'},\n",
              "  {'station_code': '0222',\n",
              "   'station_line': '2',\n",
              "   'station_name': '강남',\n",
              "   'train_arrtime': '063900',\n",
              "   'train_code': '2042',\n",
              "   'train_departure': '성수',\n",
              "   'train_deptime': '063930',\n",
              "   'train_destination': '성수',\n",
              "   'train_direction': 'IN',\n",
              "   'train_express': '0',\n",
              "   'week': 'DAY'},\n",
              "  {'station_code': '0222',\n",
              "   'station_line': '2',\n",
              "   'station_name': '강남',\n",
              "   'train_arrtime': '064500',\n",
              "   'train_code': '2044',\n",
              "   'train_departure': '성수',\n",
              "   'train_deptime': '064530',\n",
              "   'train_destination': '성수',\n",
              "   'train_direction': 'IN',\n",
              "   'train_express': '0',\n",
              "   'week': 'DAY'}],\n",
              " 'numOfRows': '10',\n",
              " 'pageNo': '1',\n",
              " 'resultCode': 0,\n",
              " 'resultMsg': '정상',\n",
              " 'totalCount': 234}"
            ]
          },
          "metadata": {},
          "execution_count": 9
        }
      ]
    },
    {
      "cell_type": "code",
      "source": [
        "items = r['data']\n",
        "\n",
        "역사코드 = [item['station_code'] for item in items]\n",
        "터미널 = [item['station_line'] for item in items]\n",
        "역사명 = [item['station_name'] for item in items]\n",
        "열차도착시간 = [item['train_arrtime'] for item in items]\n",
        "열차코드 = [item['train_code'] for item in items]\n",
        "열차행선지 = [item['train_departure'] for item in items]\n",
        "열차출발시간 = [item['train_deptime'] for item in items]\n",
        "열차목적지 = [item['train_destination'] for item in items]\n",
        "내선외선 = [item['train_direction'] for item in items]\n",
        "주중주말 = [item['week'] for item in items]\n",
        "\n",
        "역사코드 = pd.Series(역사코드)\n",
        "터미널 = pd.Series(터미널)   \n",
        "역사명 = pd.Series(역사명)\n",
        "열차도착시간 = pd.Series(열차도착시간)\n",
        "열차코드 = pd.Series(열차코드)\n",
        "열차행선지 = pd.Series(열차행선지)\n",
        "열차출발시간 = pd.Series(열차출발시간)\n",
        "열차목적지 = pd.Series(열차목적지)\n",
        "내선외선 = pd.Series(내선외선)\n",
        "주중주말 = pd.Series(주중주말)\n",
        "\n",
        "df = pd.DataFrame({ 'station_code': 역사코드, 'station_line': 터미널, 'station_name': 역사명, 'train_arrtime': 열차도착시간, 'train_code': 열차코드, 'train_departure': 열차행선지, 'train_deptime': 열차출발시간, 'train_destination': 열차목적지,'train_direction': 내선외선, 'week': 주중주말})"
      ],
      "metadata": {
        "id": "W8lA0-IzE55W"
      },
      "execution_count": 10,
      "outputs": []
    },
    {
      "cell_type": "code",
      "source": [
        "df"
      ],
      "metadata": {
        "id": "pNYB4hjXB9MX",
        "outputId": "5b0df725-2f9d-46d9-9e7c-cf074683bd85",
        "colab": {
          "base_uri": "https://localhost:8080/",
          "height": 363
        }
      },
      "execution_count": 11,
      "outputs": [
        {
          "output_type": "execute_result",
          "data": {
            "text/plain": [
              "  station_code station_line station_name train_arrtime train_code  \\\n",
              "0         0222            2           강남        053530       2016   \n",
              "1         0222            2           강남        055200       2022   \n",
              "2         0222            2           강남        060200       2026   \n",
              "3         0222            2           강남        060900       2028   \n",
              "4         0222            2           강남        061600       2030   \n",
              "5         0222            2           강남        062000       2032   \n",
              "6         0222            2           강남        062600       2036   \n",
              "7         0222            2           강남        063200       2038   \n",
              "8         0222            2           강남        063900       2042   \n",
              "9         0222            2           강남        064500       2044   \n",
              "\n",
              "  train_departure train_deptime train_destination train_direction week  \n",
              "0              삼성        053600                성수              IN  DAY  \n",
              "1              성수        055230                성수              IN  DAY  \n",
              "2              성수        060230                성수              IN  DAY  \n",
              "3              성수        060930                성수              IN  DAY  \n",
              "4              성수        061630                성수              IN  DAY  \n",
              "5              성수        062030                성수              IN  DAY  \n",
              "6              성수        062630                성수              IN  DAY  \n",
              "7              성수        063230                성수              IN  DAY  \n",
              "8              성수        063930                성수              IN  DAY  \n",
              "9              성수        064530                성수              IN  DAY  "
            ],
            "text/html": [
              "\n",
              "  <div id=\"df-3ae154fa-1804-497e-a7d3-ccbd2e7af382\">\n",
              "    <div class=\"colab-df-container\">\n",
              "      <div>\n",
              "<style scoped>\n",
              "    .dataframe tbody tr th:only-of-type {\n",
              "        vertical-align: middle;\n",
              "    }\n",
              "\n",
              "    .dataframe tbody tr th {\n",
              "        vertical-align: top;\n",
              "    }\n",
              "\n",
              "    .dataframe thead th {\n",
              "        text-align: right;\n",
              "    }\n",
              "</style>\n",
              "<table border=\"1\" class=\"dataframe\">\n",
              "  <thead>\n",
              "    <tr style=\"text-align: right;\">\n",
              "      <th></th>\n",
              "      <th>station_code</th>\n",
              "      <th>station_line</th>\n",
              "      <th>station_name</th>\n",
              "      <th>train_arrtime</th>\n",
              "      <th>train_code</th>\n",
              "      <th>train_departure</th>\n",
              "      <th>train_deptime</th>\n",
              "      <th>train_destination</th>\n",
              "      <th>train_direction</th>\n",
              "      <th>week</th>\n",
              "    </tr>\n",
              "  </thead>\n",
              "  <tbody>\n",
              "    <tr>\n",
              "      <th>0</th>\n",
              "      <td>0222</td>\n",
              "      <td>2</td>\n",
              "      <td>강남</td>\n",
              "      <td>053530</td>\n",
              "      <td>2016</td>\n",
              "      <td>삼성</td>\n",
              "      <td>053600</td>\n",
              "      <td>성수</td>\n",
              "      <td>IN</td>\n",
              "      <td>DAY</td>\n",
              "    </tr>\n",
              "    <tr>\n",
              "      <th>1</th>\n",
              "      <td>0222</td>\n",
              "      <td>2</td>\n",
              "      <td>강남</td>\n",
              "      <td>055200</td>\n",
              "      <td>2022</td>\n",
              "      <td>성수</td>\n",
              "      <td>055230</td>\n",
              "      <td>성수</td>\n",
              "      <td>IN</td>\n",
              "      <td>DAY</td>\n",
              "    </tr>\n",
              "    <tr>\n",
              "      <th>2</th>\n",
              "      <td>0222</td>\n",
              "      <td>2</td>\n",
              "      <td>강남</td>\n",
              "      <td>060200</td>\n",
              "      <td>2026</td>\n",
              "      <td>성수</td>\n",
              "      <td>060230</td>\n",
              "      <td>성수</td>\n",
              "      <td>IN</td>\n",
              "      <td>DAY</td>\n",
              "    </tr>\n",
              "    <tr>\n",
              "      <th>3</th>\n",
              "      <td>0222</td>\n",
              "      <td>2</td>\n",
              "      <td>강남</td>\n",
              "      <td>060900</td>\n",
              "      <td>2028</td>\n",
              "      <td>성수</td>\n",
              "      <td>060930</td>\n",
              "      <td>성수</td>\n",
              "      <td>IN</td>\n",
              "      <td>DAY</td>\n",
              "    </tr>\n",
              "    <tr>\n",
              "      <th>4</th>\n",
              "      <td>0222</td>\n",
              "      <td>2</td>\n",
              "      <td>강남</td>\n",
              "      <td>061600</td>\n",
              "      <td>2030</td>\n",
              "      <td>성수</td>\n",
              "      <td>061630</td>\n",
              "      <td>성수</td>\n",
              "      <td>IN</td>\n",
              "      <td>DAY</td>\n",
              "    </tr>\n",
              "    <tr>\n",
              "      <th>5</th>\n",
              "      <td>0222</td>\n",
              "      <td>2</td>\n",
              "      <td>강남</td>\n",
              "      <td>062000</td>\n",
              "      <td>2032</td>\n",
              "      <td>성수</td>\n",
              "      <td>062030</td>\n",
              "      <td>성수</td>\n",
              "      <td>IN</td>\n",
              "      <td>DAY</td>\n",
              "    </tr>\n",
              "    <tr>\n",
              "      <th>6</th>\n",
              "      <td>0222</td>\n",
              "      <td>2</td>\n",
              "      <td>강남</td>\n",
              "      <td>062600</td>\n",
              "      <td>2036</td>\n",
              "      <td>성수</td>\n",
              "      <td>062630</td>\n",
              "      <td>성수</td>\n",
              "      <td>IN</td>\n",
              "      <td>DAY</td>\n",
              "    </tr>\n",
              "    <tr>\n",
              "      <th>7</th>\n",
              "      <td>0222</td>\n",
              "      <td>2</td>\n",
              "      <td>강남</td>\n",
              "      <td>063200</td>\n",
              "      <td>2038</td>\n",
              "      <td>성수</td>\n",
              "      <td>063230</td>\n",
              "      <td>성수</td>\n",
              "      <td>IN</td>\n",
              "      <td>DAY</td>\n",
              "    </tr>\n",
              "    <tr>\n",
              "      <th>8</th>\n",
              "      <td>0222</td>\n",
              "      <td>2</td>\n",
              "      <td>강남</td>\n",
              "      <td>063900</td>\n",
              "      <td>2042</td>\n",
              "      <td>성수</td>\n",
              "      <td>063930</td>\n",
              "      <td>성수</td>\n",
              "      <td>IN</td>\n",
              "      <td>DAY</td>\n",
              "    </tr>\n",
              "    <tr>\n",
              "      <th>9</th>\n",
              "      <td>0222</td>\n",
              "      <td>2</td>\n",
              "      <td>강남</td>\n",
              "      <td>064500</td>\n",
              "      <td>2044</td>\n",
              "      <td>성수</td>\n",
              "      <td>064530</td>\n",
              "      <td>성수</td>\n",
              "      <td>IN</td>\n",
              "      <td>DAY</td>\n",
              "    </tr>\n",
              "  </tbody>\n",
              "</table>\n",
              "</div>\n",
              "      <button class=\"colab-df-convert\" onclick=\"convertToInteractive('df-3ae154fa-1804-497e-a7d3-ccbd2e7af382')\"\n",
              "              title=\"Convert this dataframe to an interactive table.\"\n",
              "              style=\"display:none;\">\n",
              "        \n",
              "  <svg xmlns=\"http://www.w3.org/2000/svg\" height=\"24px\"viewBox=\"0 0 24 24\"\n",
              "       width=\"24px\">\n",
              "    <path d=\"M0 0h24v24H0V0z\" fill=\"none\"/>\n",
              "    <path d=\"M18.56 5.44l.94 2.06.94-2.06 2.06-.94-2.06-.94-.94-2.06-.94 2.06-2.06.94zm-11 1L8.5 8.5l.94-2.06 2.06-.94-2.06-.94L8.5 2.5l-.94 2.06-2.06.94zm10 10l.94 2.06.94-2.06 2.06-.94-2.06-.94-.94-2.06-.94 2.06-2.06.94z\"/><path d=\"M17.41 7.96l-1.37-1.37c-.4-.4-.92-.59-1.43-.59-.52 0-1.04.2-1.43.59L10.3 9.45l-7.72 7.72c-.78.78-.78 2.05 0 2.83L4 21.41c.39.39.9.59 1.41.59.51 0 1.02-.2 1.41-.59l7.78-7.78 2.81-2.81c.8-.78.8-2.07 0-2.86zM5.41 20L4 18.59l7.72-7.72 1.47 1.35L5.41 20z\"/>\n",
              "  </svg>\n",
              "      </button>\n",
              "      \n",
              "  <style>\n",
              "    .colab-df-container {\n",
              "      display:flex;\n",
              "      flex-wrap:wrap;\n",
              "      gap: 12px;\n",
              "    }\n",
              "\n",
              "    .colab-df-convert {\n",
              "      background-color: #E8F0FE;\n",
              "      border: none;\n",
              "      border-radius: 50%;\n",
              "      cursor: pointer;\n",
              "      display: none;\n",
              "      fill: #1967D2;\n",
              "      height: 32px;\n",
              "      padding: 0 0 0 0;\n",
              "      width: 32px;\n",
              "    }\n",
              "\n",
              "    .colab-df-convert:hover {\n",
              "      background-color: #E2EBFA;\n",
              "      box-shadow: 0px 1px 2px rgba(60, 64, 67, 0.3), 0px 1px 3px 1px rgba(60, 64, 67, 0.15);\n",
              "      fill: #174EA6;\n",
              "    }\n",
              "\n",
              "    [theme=dark] .colab-df-convert {\n",
              "      background-color: #3B4455;\n",
              "      fill: #D2E3FC;\n",
              "    }\n",
              "\n",
              "    [theme=dark] .colab-df-convert:hover {\n",
              "      background-color: #434B5C;\n",
              "      box-shadow: 0px 1px 3px 1px rgba(0, 0, 0, 0.15);\n",
              "      filter: drop-shadow(0px 1px 2px rgba(0, 0, 0, 0.3));\n",
              "      fill: #FFFFFF;\n",
              "    }\n",
              "  </style>\n",
              "\n",
              "      <script>\n",
              "        const buttonEl =\n",
              "          document.querySelector('#df-3ae154fa-1804-497e-a7d3-ccbd2e7af382 button.colab-df-convert');\n",
              "        buttonEl.style.display =\n",
              "          google.colab.kernel.accessAllowed ? 'block' : 'none';\n",
              "\n",
              "        async function convertToInteractive(key) {\n",
              "          const element = document.querySelector('#df-3ae154fa-1804-497e-a7d3-ccbd2e7af382');\n",
              "          const dataTable =\n",
              "            await google.colab.kernel.invokeFunction('convertToInteractive',\n",
              "                                                     [key], {});\n",
              "          if (!dataTable) return;\n",
              "\n",
              "          const docLinkHtml = 'Like what you see? Visit the ' +\n",
              "            '<a target=\"_blank\" href=https://colab.research.google.com/notebooks/data_table.ipynb>data table notebook</a>'\n",
              "            + ' to learn more about interactive tables.';\n",
              "          element.innerHTML = '';\n",
              "          dataTable['output_type'] = 'display_data';\n",
              "          await google.colab.output.renderOutput(dataTable, element);\n",
              "          const docLink = document.createElement('div');\n",
              "          docLink.innerHTML = docLinkHtml;\n",
              "          element.appendChild(docLink);\n",
              "        }\n",
              "      </script>\n",
              "    </div>\n",
              "  </div>\n",
              "  "
            ]
          },
          "metadata": {},
          "execution_count": 11
        }
      ]
    },
    {
      "cell_type": "code",
      "source": [
        "def test(역출발첫10개열차정보):\n",
        "  URL = ('http://apis.data.go.kr/B553766/smt-schedule/schedule?serviceKey=5fCBE0vOLmG7sNcmr5Wictc6oXap0IiPVq4aNB8RHKLVAhyl2pgIYpUb9Z6hh%2BaD2V458FpxReLp0d%2BajKXang%3D%3D&numOfRows=10&pageNo=1&stationCode=0222&week=DAY&trainDirection=IN')\n",
        "  \n",
        "  역사코드 = [item['station_code'] for item in items]\n",
        "  터미널 = [item['station_line'] for item in items]\n",
        "  역사명 = [item['station_name'] for item in items]\n",
        "  열차도착시간 = [item['train_arrtime'] for item in items]\n",
        "  열차코드 = [item['train_code'] for item in items]\n",
        "  열차행선지 = [item['train_departure'] for item in items]\n",
        "  열차출발시간 = [item['train_deptime'] for item in items]\n",
        "  열차목적지 = [item['train_destination'] for item in items]\n",
        "  내선외선 = [item['train_direction'] for item in items]\n",
        "  주중주말 = [item['week'] for item in items]\n",
        "\n",
        "  역사코드 = pd.Series(역사코드)\n",
        "  터미널 = pd.Series(터미널)   \n",
        "  역사명 = pd.Series(역사명)\n",
        "  열차도착시간 = pd.Series(열차도착시간)\n",
        "  열차코드 = pd.Series(열차코드)\n",
        "  열차행선지 = pd.Series(열차행선지)\n",
        "  열차출발시간 = pd.Series(열차출발시간)\n",
        "  열차목적지 = pd.Series(열차목적지)\n",
        "  내선외선 = pd.Series(내선외선)\n",
        "  주중주말 = pd.Series(주중주말)\n",
        "\n",
        "  df = pd.DataFrame({ '역사번호': 역사코드, '타는 곳': 터미널, '역명': 역사명, '열차도착시간': 열차도착시간, '열차번호': 열차코드, '열차행선지': 열차행선지, '열차출발시간': 열차출발시간, '열차목적지': 열차목적지,'내선외선': 내선외선, '주중(Day)주말(Weekend)': 주중주말})\n",
        "  return df"
      ],
      "metadata": {
        "id": "xa2Gb_qsm_G5"
      },
      "execution_count": 23,
      "outputs": []
    },
    {
      "cell_type": "code",
      "source": [
        "iface = gr.Interface(test, gr.inputs.Dropdown(['강남역']), outputs=['dataframe'])\n",
        "iface.launch(debug=True)"
      ],
      "metadata": {
        "id": "kxORJVPOnDSP",
        "outputId": "4fce3639-ccb9-45a0-ede8-f1cc3adcf648",
        "colab": {
          "base_uri": "https://localhost:8080/",
          "height": 666
        }
      },
      "execution_count": 24,
      "outputs": [
        {
          "output_type": "stream",
          "name": "stdout",
          "text": [
            "Colab notebook detected. This cell will run indefinitely so that you can see errors and logs. To turn off, set debug=False in launch().\n",
            "Running on public URL: https://52593.gradio.app\n",
            "\n",
            "This share link expires in 72 hours. For free permanent hosting, check out Spaces (https://huggingface.co/spaces)\n"
          ]
        },
        {
          "output_type": "display_data",
          "data": {
            "text/plain": [
              "<IPython.lib.display.IFrame at 0x7f27f62fe210>"
            ],
            "text/html": [
              "\n",
              "        <iframe\n",
              "            width=\"900\"\n",
              "            height=\"500\"\n",
              "            src=\"https://52593.gradio.app\"\n",
              "            frameborder=\"0\"\n",
              "            allowfullscreen\n",
              "        ></iframe>\n",
              "        "
            ]
          },
          "metadata": {}
        },
        {
          "output_type": "stream",
          "name": "stdout",
          "text": [
            "Keyboard interruption in main thread... closing server.\n"
          ]
        },
        {
          "output_type": "execute_result",
          "data": {
            "text/plain": [
              "(<fastapi.applications.FastAPI at 0x7f2800375050>,\n",
              " 'http://127.0.0.1:7860/',\n",
              " 'https://52593.gradio.app')"
            ]
          },
          "metadata": {},
          "execution_count": 24
        }
      ]
    },
    {
      "cell_type": "markdown",
      "source": [
        "Api 수정? 업글? "
      ],
      "metadata": {
        "id": "A_audQn5FriD"
      }
    }
  ]
}