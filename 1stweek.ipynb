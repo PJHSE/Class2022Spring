{
  "nbformat": 4,
  "nbformat_minor": 0,
  "metadata": {
    "colab": {
      "name": "Untitled15.ipynb",
      "provenance": [],
      "authorship_tag": "ABX9TyMk78pmKoqSSkx6yJotnWQh",
      "include_colab_link": true
    },
    "kernelspec": {
      "name": "python3",
      "display_name": "Python 3"
    },
    "language_info": {
      "name": "python"
    }
  },
  "cells": [
    {
      "cell_type": "markdown",
      "metadata": {
        "id": "view-in-github",
        "colab_type": "text"
      },
      "source": [
        "<a href=\"https://colab.research.google.com/github/PJHSE/Class2022Spring/blob/main/1stweek.ipynb\" target=\"_parent\"><img src=\"https://colab.research.google.com/assets/colab-badge.svg\" alt=\"Open In Colab\"/></a>"
      ]
    },
    {
      "cell_type": "markdown",
      "source": [
        "# 0309\n",
        "변수(Variable)는 기본적으로 크게 두 가지임. 숫자와 String. 그리고 list\n",
        "\n",
        "숫자 중에서도 Integer, Float 등으로 나뉨.(십진수.. 이진수..)\n",
        "\n",
        "정수와 실수. Int, float. \n",
        "\n",
        "str. 문자열. Shape는 Chrs 갯수에 의해 결정.\n",
        "\n",
        "list. list에는 여러가지 정보를 담을 수 있는 것. Shape는 item의 갯수에 의해 결정. 숫자나 문자, 뭐든지 들어갈 수 있음."
      ],
      "metadata": {
        "id": "R6tKyJ7_iVkW"
      }
    },
    {
      "cell_type": "code",
      "execution_count": 3,
      "metadata": {
        "colab": {
          "base_uri": "https://localhost:8080/"
        },
        "id": "q8G40CHvbxsI",
        "outputId": "64b785cb-5abc-4053-8022-c532fe3312f7"
      },
      "outputs": [
        {
          "output_type": "stream",
          "name": "stdout",
          "text": [
            "<class 'int'>\n",
            "<class 'float'>\n",
            "<class 'float'>\n",
            "<class 'float'>\n",
            "2.0\n",
            "<class 'float'>\n",
            "10.0\n",
            "<class 'float'>\n"
          ]
        }
      ],
      "source": [
        "a = 1\n",
        "b = 1.0\n",
        "c = 3.5\n",
        "d = 4.5\n",
        "print(type(a))\n",
        "print(type(b))\n",
        "print(type(c))\n",
        "print(type(d))\n",
        "print(a+b)\n",
        "print(type(a + b))\n",
        "print(a + b + c +d)\n",
        "print(type(a + b + c +d))"
      ]
    },
    {
      "cell_type": "code",
      "source": [
        "A = [1, 2]\n",
        "B = ['1','2']\n",
        "C = [[1,2],3]\n",
        "D = [(1,2),3]\n",
        "print(A)\n",
        "print(B)\n",
        "print(C)\n",
        "print(D)"
      ],
      "metadata": {
        "colab": {
          "base_uri": "https://localhost:8080/"
        },
        "id": "np4fDoZmjKqV",
        "outputId": "adc75118-1029-4a42-fcf5-b2c25d6bdde6"
      },
      "execution_count": 6,
      "outputs": [
        {
          "output_type": "stream",
          "name": "stdout",
          "text": [
            "[1, 2]\n",
            "['1', '2']\n",
            "[[1, 2], 3]\n",
            "[(1, 2), 3]\n"
          ]
        }
      ]
    },
    {
      "cell_type": "markdown",
      "source": [
        "list에서는 인덱싱을 통해 아이템을 호출할 수 있음.\n",
        "\n",
        "인덱싱을 할 때에는 포함 관계를 주의해야 함.\n",
        "\n",
        "*파이썬에서는 0번째가 첫번째임."
      ],
      "metadata": {
        "id": "m-ug4_Xvj5hd"
      }
    },
    {
      "cell_type": "code",
      "source": [
        "print(A[0])\n",
        "print(B[1])\n",
        "print(C[0])\n",
        "print(D[0])\n",
        "\n",
        "type(D[0])"
      ],
      "metadata": {
        "colab": {
          "base_uri": "https://localhost:8080/"
        },
        "id": "l3Zb0lxSju5b",
        "outputId": "2eb72f46-d0dd-4dd0-b946-0c954aaea315"
      },
      "execution_count": 9,
      "outputs": [
        {
          "output_type": "stream",
          "name": "stdout",
          "text": [
            "1\n",
            "2\n",
            "[1, 2]\n",
            "(1, 2)\n"
          ]
        },
        {
          "output_type": "execute_result",
          "data": {
            "text/plain": [
              "tuple"
            ]
          },
          "metadata": {},
          "execution_count": 9
        }
      ]
    },
    {
      "cell_type": "code",
      "source": [
        "print(A[0:1])\n",
        "print(B[1:1])\n",
        "print(C[:1])\n",
        "print(D[0:-1])\n",
        "#print(D[0:-4])  이렇게 하면 어떻게 될까?"
      ],
      "metadata": {
        "colab": {
          "base_uri": "https://localhost:8080/"
        },
        "id": "hHOFf2chkHcZ",
        "outputId": "6e63527a-3687-4c08-ce0f-244709a23c7e"
      },
      "execution_count": 14,
      "outputs": [
        {
          "output_type": "stream",
          "name": "stdout",
          "text": [
            "[1]\n",
            "[]\n",
            "[[1, 2]]\n",
            "[(1, 2)]\n"
          ]
        }
      ]
    },
    {
      "cell_type": "code",
      "source": [
        "G = 'Park'\n",
        "Mylist = [1,2,[3,4],'abc',[2,4,5,[G]]]"
      ],
      "metadata": {
        "id": "8Vsoz4FUkVxD"
      },
      "execution_count": 25,
      "outputs": []
    },
    {
      "cell_type": "code",
      "source": [
        "print(Mylist[4][3])\n",
        "Mylist[3:5]\n"
      ],
      "metadata": {
        "colab": {
          "base_uri": "https://localhost:8080/"
        },
        "id": "3lU-LtQyk3NN",
        "outputId": "af0d965f-7215-4729-c155-1c15fd7d9d35"
      },
      "execution_count": 28,
      "outputs": [
        {
          "output_type": "stream",
          "name": "stdout",
          "text": [
            "['Park']\n"
          ]
        },
        {
          "output_type": "execute_result",
          "data": {
            "text/plain": [
              "['abc', [2, 4, 5, ['Park']]]"
            ]
          },
          "metadata": {},
          "execution_count": 28
        }
      ]
    },
    {
      "cell_type": "markdown",
      "source": [
        "str에서도 인덱싱은 유효하다."
      ],
      "metadata": {
        "id": "GsPJV4WGlm9w"
      }
    },
    {
      "cell_type": "code",
      "source": [
        "print(G[2])\n",
        "print(G[0:3])"
      ],
      "metadata": {
        "colab": {
          "base_uri": "https://localhost:8080/"
        },
        "id": "TIzBZx0zlFRn",
        "outputId": "692ea801-9a90-4928-c070-17a84a36ef85"
      },
      "execution_count": 30,
      "outputs": [
        {
          "output_type": "stream",
          "name": "stdout",
          "text": [
            "r\n",
            "Par\n"
          ]
        }
      ]
    },
    {
      "cell_type": "markdown",
      "source": [
        "마지막으로 변수 dict가 있음.\n",
        "\n",
        "list와 유사한 tuple도 있음. 튜플은 내부 item이 고정되어 있음. \n",
        "\n",
        "dict는 내부 item에 대해서 정보를 더해서 묶어 저장하는. Key와 value. \n",
        "\n",
        "dict, list, tuple 에서의 순서는?\n",
        "\n",
        "dict에서는 순서가 없기에 인덱싱이 불가능한 것 맞나? ㅇㅇ 에러 뜸. "
      ],
      "metadata": {
        "id": "fI5UB5July4R"
      }
    },
    {
      "cell_type": "code",
      "source": [
        "Mydict = {2018130871 : 'park', 2017130871 : 'Lim', '2016130871' : 'Jeong' }"
      ],
      "metadata": {
        "id": "JbtPKy2IlrF2"
      },
      "execution_count": 35,
      "outputs": []
    },
    {
      "cell_type": "code",
      "source": [
        "#print(Mydict[2016130871])\n",
        "print(Mydict['2016130871']);\n",
        "Mydict[2018130871]"
      ],
      "metadata": {
        "colab": {
          "base_uri": "https://localhost:8080/",
          "height": 54
        },
        "id": "ZHG5rrRxm4hi",
        "outputId": "ce5dc30b-858c-4046-afca-fca77284a754"
      },
      "execution_count": 40,
      "outputs": [
        {
          "output_type": "stream",
          "name": "stdout",
          "text": [
            "Jeong\n"
          ]
        },
        {
          "output_type": "execute_result",
          "data": {
            "text/plain": [
              "'park'"
            ],
            "application/vnd.google.colaboratory.intrinsic+json": {
              "type": "string"
            }
          },
          "metadata": {},
          "execution_count": 40
        }
      ]
    },
    {
      "cell_type": "code",
      "source": [
        ""
      ],
      "metadata": {
        "id": "uiySe6cVm9T3"
      },
      "execution_count": null,
      "outputs": []
    }
  ]
}